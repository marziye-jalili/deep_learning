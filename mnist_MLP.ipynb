{
 "cells": [
  {
   "cell_type": "markdown",
   "id": "0e6b0aab-46f2-4188-8215-0b75a950fd70",
   "metadata": {},
   "source": [
    "Network 1:"
   ]
  },
  {
   "cell_type": "markdown",
   "id": "ea64a32f-0831-418f-b733-fb967d023115",
   "metadata": {},
   "source": [
    "Hidden Layers: 2\n",
    "\n",
    "Neurons in each hidden layer: 12\n",
    "\n",
    "8\n",
    "Activation function: ReLU for hidden layers, softmax for output lay\n",
    "\n",
    "er\n",
    "Learning rate: 0\n",
    "\n",
    ".01\n",
    "Batch size: 32"
   ]
  },
  {
   "cell_type": "code",
   "execution_count": 4,
   "id": "44f1c383-13bd-4367-b32f-da528e911f3d",
   "metadata": {},
   "outputs": [],
   "source": [
    "from tensorflow.keras.models import Sequential\n",
    "from tensorflow.keras.layers import Dense\n",
    "from tensorflow.keras.optimizers import SGD\n",
    "from tensorflow.keras.datasets import mnist\n",
    "from tensorflow.keras.utils import to_categorical\n",
    "import matplotlib.pyplot as plt"
   ]
  },
  {
   "cell_type": "code",
   "execution_count": 5,
   "id": "9e25ac11-1411-430b-ba6a-247e5d0c6f54",
   "metadata": {},
   "outputs": [],
   "source": [
    "(train_images, train_labels), (test_images, test_labels) = mnist.load_data()"
   ]
  },
  {
   "cell_type": "code",
   "execution_count": 6,
   "id": "c1726f04-78ab-4f88-ba7e-153eb0860ddc",
   "metadata": {},
   "outputs": [],
   "source": [
    "train_images = train_images.reshape((60000, 28 * 28)).astype('float32') / 255\n",
    "test_images = test_images.reshape((10000, 28 * 28)).astype('float32') / 255"
   ]
  },
  {
   "cell_type": "code",
   "execution_count": 7,
   "id": "82668448-96f9-4512-bcb3-38c5475f5b22",
   "metadata": {},
   "outputs": [],
   "source": [
    "train_labels = to_categorical(train_labels)\n",
    "test_labels = to_categorical(test_labels)"
   ]
  },
  {
   "cell_type": "code",
   "execution_count": 8,
   "id": "245645a2-dcd9-4064-a8d4-8eb3b9313c6c",
   "metadata": {},
   "outputs": [],
   "source": [
    "model1 = Sequential()"
   ]
  },
  {
   "cell_type": "code",
   "execution_count": 9,
   "id": "54119ab3-3bf0-44e3-bede-8552f6ee0fc2",
   "metadata": {},
   "outputs": [],
   "source": [
    "model1.add(Dense(128, activation='relu', input_shape=(28 * 28,)))\n",
    "model1.add(Dense(128, activation='relu'))\n",
    "model1.add(Dense(10, activation='softmax'))"
   ]
  },
  {
   "cell_type": "code",
   "execution_count": 10,
   "id": "1190fc69-23c6-48da-aed8-3bc2d1501f29",
   "metadata": {},
   "outputs": [],
   "source": [
    "model1.compile(optimizer=SGD(learning_rate=0.01), loss='categorical_crossentropy', metrics=['accuracy'])"
   ]
  },
  {
   "cell_type": "code",
   "execution_count": 11,
   "id": "fdb08ad8-4a48-4d33-84d0-88a1f5cf9cfe",
   "metadata": {},
   "outputs": [
    {
     "name": "stdout",
     "output_type": "stream",
     "text": [
      "Epoch 1/10\n",
      "1500/1500 [==============================] - 7s 4ms/step - loss: 0.7471 - accuracy: 0.8091 - val_loss: 0.3426 - val_accuracy: 0.9006\n",
      "Epoch 2/10\n",
      "1500/1500 [==============================] - 6s 4ms/step - loss: 0.3235 - accuracy: 0.9075 - val_loss: 0.2746 - val_accuracy: 0.9218\n",
      "Epoch 3/10\n",
      "1500/1500 [==============================] - 6s 4ms/step - loss: 0.2676 - accuracy: 0.9239 - val_loss: 0.2370 - val_accuracy: 0.9330\n",
      "Epoch 4/10\n",
      "1500/1500 [==============================] - 6s 4ms/step - loss: 0.2330 - accuracy: 0.9344 - val_loss: 0.2103 - val_accuracy: 0.9408\n",
      "Epoch 5/10\n",
      "1500/1500 [==============================] - 6s 4ms/step - loss: 0.2070 - accuracy: 0.9400 - val_loss: 0.1920 - val_accuracy: 0.9460\n",
      "Epoch 6/10\n",
      "1500/1500 [==============================] - 6s 4ms/step - loss: 0.1865 - accuracy: 0.9468 - val_loss: 0.1814 - val_accuracy: 0.9485\n",
      "Epoch 7/10\n",
      "1500/1500 [==============================] - 6s 4ms/step - loss: 0.1697 - accuracy: 0.9513 - val_loss: 0.1675 - val_accuracy: 0.9522\n",
      "Epoch 8/10\n",
      "1500/1500 [==============================] - 6s 4ms/step - loss: 0.1559 - accuracy: 0.9559 - val_loss: 0.1550 - val_accuracy: 0.9566\n",
      "Epoch 9/10\n",
      "1500/1500 [==============================] - 6s 4ms/step - loss: 0.1435 - accuracy: 0.9594 - val_loss: 0.1484 - val_accuracy: 0.9582\n",
      "Epoch 10/10\n",
      "1500/1500 [==============================] - 6s 4ms/step - loss: 0.1330 - accuracy: 0.9628 - val_loss: 0.1436 - val_accuracy: 0.9588\n"
     ]
    },
    {
     "data": {
      "text/plain": [
       "<keras.callbacks.History at 0x18c8034b190>"
      ]
     },
     "execution_count": 11,
     "metadata": {},
     "output_type": "execute_result"
    }
   ],
   "source": [
    "model1.fit(train_images, train_labels, epochs=10, batch_size=32, validation_split=0.2)"
   ]
  },
  {
   "cell_type": "code",
   "execution_count": 12,
   "id": "2511b57d-d2e6-4768-99ca-1b724476ee5a",
   "metadata": {},
   "outputs": [
    {
     "name": "stdout",
     "output_type": "stream",
     "text": [
      "313/313 [==============================] - 1s 3ms/step - loss: 0.1407 - accuracy: 0.9586\n"
     ]
    }
   ],
   "source": [
    "accuracy1 = model1.evaluate(test_images, test_labels)[1]"
   ]
  },
  {
   "cell_type": "code",
   "execution_count": 13,
   "id": "e4c46954-b433-4b50-bb39-639e1f37c1c3",
   "metadata": {},
   "outputs": [
    {
     "name": "stdout",
     "output_type": "stream",
     "text": [
      "Network 1 Accuracy: 0.9585999846458435\n"
     ]
    }
   ],
   "source": [
    "print(f\"Network 1 Accuracy: {accuracy1}\")"
   ]
  },
  {
   "cell_type": "markdown",
   "id": "753024f8-c00e-4ec5-81cc-a372dad868d2",
   "metadata": {},
   "source": [
    "--------------------------------------------------------------------------------------------------------------------------"
   ]
  },
  {
   "cell_type": "markdown",
   "id": "f0124b67-f1aa-4725-838e-ffc0d1601aec",
   "metadata": {},
   "source": [
    "Network 2:"
   ]
  },
  {
   "cell_type": "markdown",
   "id": "17662fe5-ee26-45d8-b905-35cc9258d0f2",
   "metadata": {},
   "source": [
    "Hidden Layers: 3\n",
    "\n",
    "Neurons in each hidden layer: 25\n",
    "\n",
    "6\n",
    "Activation function: Tanh for hidden layers, softmax for output lay\n",
    "\n",
    "er\n",
    "Learning rate: 0.\n",
    "\n",
    "001\n",
    "Batch size: 64"
   ]
  },
  {
   "cell_type": "code",
   "execution_count": 28,
   "id": "a27cbb20-b0ab-4c06-af64-7060716e0a27",
   "metadata": {},
   "outputs": [],
   "source": [
    "model2 = Sequential()"
   ]
  },
  {
   "cell_type": "code",
   "execution_count": 29,
   "id": "2bd35d34-bcb8-4969-9dd7-542ae8b95f62",
   "metadata": {},
   "outputs": [],
   "source": [
    "model2.add(Dense(256, activation='tanh', input_shape=(28 * 28,)))\n",
    "model2.add(Dense(256, activation='tanh'))\n",
    "model2.add(Dense(256, activation='tanh'))\n",
    "model2.add(Dense(10, activation='softmax'))"
   ]
  },
  {
   "cell_type": "code",
   "execution_count": 30,
   "id": "c061ff2b-2145-450e-b855-6ed0af7c0e02",
   "metadata": {},
   "outputs": [],
   "source": [
    "model2.compile(optimizer=SGD(learning_rate=0.001), loss='categorical_crossentropy', metrics=['accuracy'])"
   ]
  },
  {
   "cell_type": "code",
   "execution_count": 31,
   "id": "8d17a14f-d502-4cc5-b9cd-205a0ed65657",
   "metadata": {},
   "outputs": [
    {
     "name": "stdout",
     "output_type": "stream",
     "text": [
      "Epoch 1/10\n",
      "750/750 [==============================] - 5s 6ms/step - loss: 1.6886 - accuracy: 0.5541 - val_loss: 1.2009 - val_accuracy: 0.7630\n",
      "Epoch 2/10\n",
      "750/750 [==============================] - 4s 5ms/step - loss: 1.0044 - accuracy: 0.7839 - val_loss: 0.8063 - val_accuracy: 0.8287\n",
      "Epoch 3/10\n",
      "750/750 [==============================] - 4s 5ms/step - loss: 0.7488 - accuracy: 0.8261 - val_loss: 0.6388 - val_accuracy: 0.8558\n",
      "Epoch 4/10\n",
      "750/750 [==============================] - 4s 6ms/step - loss: 0.6255 - accuracy: 0.8481 - val_loss: 0.5486 - val_accuracy: 0.8688\n",
      "Epoch 5/10\n",
      "750/750 [==============================] - 4s 6ms/step - loss: 0.5525 - accuracy: 0.8619 - val_loss: 0.4923 - val_accuracy: 0.8777\n",
      "Epoch 6/10\n",
      "750/750 [==============================] - 4s 6ms/step - loss: 0.5039 - accuracy: 0.8714 - val_loss: 0.4536 - val_accuracy: 0.8842\n",
      "Epoch 7/10\n",
      "750/750 [==============================] - 4s 6ms/step - loss: 0.4691 - accuracy: 0.8778 - val_loss: 0.4257 - val_accuracy: 0.8907\n",
      "Epoch 8/10\n",
      "750/750 [==============================] - 4s 6ms/step - loss: 0.4429 - accuracy: 0.8827 - val_loss: 0.4045 - val_accuracy: 0.8953\n",
      "Epoch 9/10\n",
      "750/750 [==============================] - 4s 6ms/step - loss: 0.4225 - accuracy: 0.8868 - val_loss: 0.3876 - val_accuracy: 0.8979\n",
      "Epoch 10/10\n",
      "750/750 [==============================] - 4s 6ms/step - loss: 0.4061 - accuracy: 0.8895 - val_loss: 0.3742 - val_accuracy: 0.9004\n"
     ]
    },
    {
     "data": {
      "text/plain": [
       "<keras.callbacks.History at 0x2a6e5d92ce0>"
      ]
     },
     "execution_count": 31,
     "metadata": {},
     "output_type": "execute_result"
    }
   ],
   "source": [
    "model2.fit(train_images, train_labels, epochs=10, batch_size=64, validation_split=0.2)"
   ]
  },
  {
   "cell_type": "code",
   "execution_count": 50,
   "id": "a6809e3e-a654-4abc-b47f-6ca74e39fc26",
   "metadata": {},
   "outputs": [
    {
     "name": "stdout",
     "output_type": "stream",
     "text": [
      "313/313 [==============================] - 1s 3ms/step - loss: 0.3788 - accuracy: 0.8974\n"
     ]
    }
   ],
   "source": [
    "accuracy2 = model2.evaluate(test_images, test_labels)[1]"
   ]
  },
  {
   "cell_type": "code",
   "execution_count": 51,
   "id": "832a42d1-2faf-4fe3-a606-c2060044676b",
   "metadata": {},
   "outputs": [
    {
     "name": "stdout",
     "output_type": "stream",
     "text": [
      "Network 2 Accuracy: 0.8974000215530396\n"
     ]
    }
   ],
   "source": [
    "print(f\"Network 2 Accuracy: {accuracy2}\")"
   ]
  },
  {
   "cell_type": "markdown",
   "id": "542d06df-42dc-428a-92ab-5cfb3e7ef6b6",
   "metadata": {},
   "source": [
    "------------------------------------------------------------------------------------------------------------"
   ]
  },
  {
   "cell_type": "markdown",
   "id": "c2c65703-603f-4603-b3aa-d481c41ea8bf",
   "metadata": {},
   "source": [
    "Network 3:"
   ]
  },
  {
   "cell_type": "markdown",
   "id": "ebb952d1-c1fa-4a57-909b-6053efe84168",
   "metadata": {},
   "source": [
    "Hidden Layers: 1\n",
    "\n",
    "\n",
    "Neurons in the hidden layer: 6\n",
    "\n",
    "4\n",
    "Activation function: Sigmoid for hidden layer, softmax for output lay\n",
    "\n",
    "er\n",
    "Learning rate: \n",
    "\n",
    "0.1\n",
    "Batch size: 128"
   ]
  },
  {
   "cell_type": "code",
   "execution_count": 32,
   "id": "fcc9c7f4-c8a6-4147-9a91-6db250a917e0",
   "metadata": {},
   "outputs": [],
   "source": [
    "model3 = Sequential()"
   ]
  },
  {
   "cell_type": "code",
   "execution_count": 33,
   "id": "8edb6e1f-a853-4cf6-93dd-9d5a75c1bb60",
   "metadata": {},
   "outputs": [],
   "source": [
    "model3.add(Dense(64, activation='sigmoid', input_shape=(28 * 28,)))\n",
    "model3.add(Dense(10, activation='softmax'))"
   ]
  },
  {
   "cell_type": "code",
   "execution_count": 34,
   "id": "a5423cdf-a799-4dee-a554-1e664fc30efe",
   "metadata": {},
   "outputs": [],
   "source": [
    "model3.compile(optimizer=SGD(learning_rate=0.1), loss='categorical_crossentropy', metrics=['accuracy'])"
   ]
  },
  {
   "cell_type": "code",
   "execution_count": 35,
   "id": "e5a61d54-2060-4203-b948-74b211896067",
   "metadata": {},
   "outputs": [
    {
     "name": "stdout",
     "output_type": "stream",
     "text": [
      "Epoch 1/10\n",
      "375/375 [==============================] - 3s 5ms/step - loss: 1.1461 - accuracy: 0.7491 - val_loss: 0.6071 - val_accuracy: 0.8702\n",
      "Epoch 2/10\n",
      "375/375 [==============================] - 1s 4ms/step - loss: 0.5257 - accuracy: 0.8716 - val_loss: 0.4218 - val_accuracy: 0.8956\n",
      "Epoch 3/10\n",
      "375/375 [==============================] - 1s 4ms/step - loss: 0.4135 - accuracy: 0.8903 - val_loss: 0.3601 - val_accuracy: 0.9043\n",
      "Epoch 4/10\n",
      "375/375 [==============================] - 2s 4ms/step - loss: 0.3658 - accuracy: 0.8988 - val_loss: 0.3282 - val_accuracy: 0.9089\n",
      "Epoch 5/10\n",
      "375/375 [==============================] - 1s 4ms/step - loss: 0.3378 - accuracy: 0.9053 - val_loss: 0.3080 - val_accuracy: 0.9143\n",
      "Epoch 6/10\n",
      "375/375 [==============================] - 2s 4ms/step - loss: 0.3184 - accuracy: 0.9093 - val_loss: 0.2941 - val_accuracy: 0.9173\n",
      "Epoch 7/10\n",
      "375/375 [==============================] - 2s 4ms/step - loss: 0.3035 - accuracy: 0.9135 - val_loss: 0.2818 - val_accuracy: 0.9213\n",
      "Epoch 8/10\n",
      "375/375 [==============================] - 2s 4ms/step - loss: 0.2910 - accuracy: 0.9166 - val_loss: 0.2713 - val_accuracy: 0.9233\n",
      "Epoch 9/10\n",
      "375/375 [==============================] - 2s 4ms/step - loss: 0.2804 - accuracy: 0.9196 - val_loss: 0.2628 - val_accuracy: 0.9253\n",
      "Epoch 10/10\n",
      "375/375 [==============================] - 2s 4ms/step - loss: 0.2708 - accuracy: 0.9225 - val_loss: 0.2550 - val_accuracy: 0.9273\n"
     ]
    },
    {
     "data": {
      "text/plain": [
       "<keras.callbacks.History at 0x2a6e7109990>"
      ]
     },
     "execution_count": 35,
     "metadata": {},
     "output_type": "execute_result"
    }
   ],
   "source": [
    "model3.fit(train_images, train_labels, epochs=10, batch_size=128, validation_split=0.2)"
   ]
  },
  {
   "cell_type": "code",
   "execution_count": 38,
   "id": "bf77d171-6c5f-43fa-a3b6-054bba396848",
   "metadata": {},
   "outputs": [
    {
     "name": "stdout",
     "output_type": "stream",
     "text": [
      "313/313 [==============================] - 1s 3ms/step - loss: 0.2585 - accuracy: 0.9251\n"
     ]
    }
   ],
   "source": [
    "accuracy3 = model3.evaluate(test_images, test_labels)[1]"
   ]
  },
  {
   "cell_type": "code",
   "execution_count": 39,
   "id": "dd70bdab-f4da-40a4-93c8-f705caa4a3e9",
   "metadata": {},
   "outputs": [
    {
     "name": "stdout",
     "output_type": "stream",
     "text": [
      "Network 3 Accuracy: 0.9251000285148621\n"
     ]
    }
   ],
   "source": [
    "print(f\"Network 3 Accuracy: {accuracy3}\")"
   ]
  },
  {
   "cell_type": "markdown",
   "id": "71691007-bf3f-4f3d-bb68-67c7288c148f",
   "metadata": {},
   "source": [
    "----------------------------------------------------------------------------------------------------"
   ]
  },
  {
   "cell_type": "markdown",
   "id": "891e979a-0b2c-479f-8d35-2ddd744c2f59",
   "metadata": {},
   "source": [
    "Network 1, Network 2, and Network 3"
   ]
  },
  {
   "cell_type": "code",
   "execution_count": 62,
   "id": "933fe74d-61ad-4265-a848-c6e0d496cdf2",
   "metadata": {},
   "outputs": [
    {
     "name": "stdout",
     "output_type": "stream",
     "text": [
      "Network 1 Accuracy: 0.9617999792098999\n",
      "Network 2 Accuracy: 0.8974000215530396\n",
      "Network 3 Accuracy: 0.9251000285148621\n"
     ]
    }
   ],
   "source": [
    "print(f\"Network 1 Accuracy: {accuracy1}\")\n",
    "print(f\"Network 2 Accuracy: {accuracy2}\")\n",
    "print(f\"Network 3 Accuracy: {accuracy3}\")"
   ]
  },
  {
   "cell_type": "code",
   "execution_count": 63,
   "id": "68253937-4c0e-43e4-a277-caec7613cabc",
   "metadata": {},
   "outputs": [
    {
     "name": "stdout",
     "output_type": "stream",
     "text": [
      "Network 1 has the highest accuracy.\n"
     ]
    }
   ],
   "source": [
    "if accuracy1 > accuracy2 and accuracy1 > accuracy3:\n",
    "    print(\"Network 1 has the highest accuracy.\")\n",
    "elif accuracy2 > accuracy1 and accuracy2 > accuracy3:\n",
    "    print(\"Network 2 has the highest accuracy.\")\n",
    "else:\n",
    "    print(\"Network 3 has the highest accuracy.\")"
   ]
  },
  {
   "cell_type": "code",
   "execution_count": null,
   "id": "c738db65-2a23-483c-bb95-0d73bd01d585",
   "metadata": {},
   "outputs": [],
   "source": []
  }
 ],
 "metadata": {
  "kernelspec": {
   "display_name": "Python 3 (ipykernel)",
   "language": "python",
   "name": "python3"
  },
  "language_info": {
   "codemirror_mode": {
    "name": "ipython",
    "version": 3
   },
   "file_extension": ".py",
   "mimetype": "text/x-python",
   "name": "python",
   "nbconvert_exporter": "python",
   "pygments_lexer": "ipython3",
   "version": "3.11.5"
  }
 },
 "nbformat": 4,
 "nbformat_minor": 5
}
