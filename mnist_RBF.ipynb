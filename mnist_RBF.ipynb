{
 "cells": [
  {
   "cell_type": "code",
   "execution_count": 52,
   "id": "1f8023ae-bfa9-4bab-b174-567c66662b3c",
   "metadata": {},
   "outputs": [],
   "source": [
    "import numpy as np\n",
    "from sklearn import datasets\n",
    "from sklearn.model_selection import train_test_split\n",
    "from sklearn.svm import SVC\n",
    "from sklearn.metrics import accuracy_score\n",
    "from joblib import dump, load"
   ]
  },
  {
   "cell_type": "code",
   "execution_count": 53,
   "id": "c9e04e8a-38c9-4460-a82c-5ec1f883a26e",
   "metadata": {},
   "outputs": [],
   "source": [
    "digits = datasets.load_digits()\n",
    "X = digits.data\n",
    "y = digits.target"
   ]
  },
  {
   "cell_type": "code",
   "execution_count": 54,
   "id": "a9336419-046c-461b-9b41-e1d89c7362bc",
   "metadata": {},
   "outputs": [],
   "source": [
    "X_train, X_test, y_train, y_test = train_test_split(X, y, test_size=0.2, random_state=42)"
   ]
  },
  {
   "cell_type": "code",
   "execution_count": 55,
   "id": "52affebd-eccb-4a25-baa2-26b868860078",
   "metadata": {},
   "outputs": [],
   "source": [
    "def train_rbf_network(num_neurons, X_train, y_train, X_test, y_test, model_filename):\n",
    "    # Train the RBF network\n",
    "    rbf_model = SVC(kernel='rbf', gamma=1.0 / (2 * num_neurons**2), C=1.0)\n",
    "    rbf_model.fit(X_train, y_train)\n",
    "\n",
    "    # Make predictions on the test set\n",
    "    predictions = rbf_model.predict(X_test)\n",
    "\n",
    "    # Calculate accuracy\n",
    "    accuracy = accuracy_score(y_test, predictions)\n",
    "\n",
    "    # Save the model\n",
    "    dump(rbf_model, model_filename)\n",
    "\n",
    "    return accuracy"
   ]
  },
  {
   "cell_type": "code",
   "execution_count": 56,
   "id": "3f2d08f3-db5d-44a3-be91-74d2b78a7bc6",
   "metadata": {},
   "outputs": [],
   "source": [
    "num_neurons_list = [10, 50, 100]"
   ]
  },
  {
   "cell_type": "code",
   "execution_count": 57,
   "id": "6439d57e-e757-41c3-8695-886b28f9cdc9",
   "metadata": {},
   "outputs": [
    {
     "name": "stdout",
     "output_type": "stream",
     "text": [
      "Accuracy with 10 neurons: 0.9583333333333334\n",
      "Accuracy with 50 neurons: 0.9805555555555555\n",
      "Accuracy with 100 neurons: 0.9611111111111111\n"
     ]
    }
   ],
   "source": [
    "for num_neurons in num_neurons_list:\n",
    "    model_filename = f\"rbf_model_{num_neurons}.joblib\"\n",
    "    accuracy = train_rbf_network(num_neurons, X_train, y_train, X_test, y_test, model_filename)\n",
    "    print(f\"Accuracy with {num_neurons} neurons: {accuracy}\")"
   ]
  },
  {
   "cell_type": "code",
   "execution_count": 58,
   "id": "23b608ea-3dbe-41da-b5f6-5318a604f708",
   "metadata": {},
   "outputs": [],
   "source": [
    "for num_neurons in num_neurons_list:\n",
    "    model_filename = f\"rbf_model_{num_neurons}.joblib\"\n",
    "    loaded_model = load(model_filename)"
   ]
  },
  {
   "cell_type": "code",
   "execution_count": null,
   "id": "1002fd81-4d98-444e-b3d1-5484a4f7d0f4",
   "metadata": {},
   "outputs": [],
   "source": []
  }
 ],
 "metadata": {
  "kernelspec": {
   "display_name": "Python 3 (ipykernel)",
   "language": "python",
   "name": "python3"
  },
  "language_info": {
   "codemirror_mode": {
    "name": "ipython",
    "version": 3
   },
   "file_extension": ".py",
   "mimetype": "text/x-python",
   "name": "python",
   "nbconvert_exporter": "python",
   "pygments_lexer": "ipython3",
   "version": "3.11.5"
  }
 },
 "nbformat": 4,
 "nbformat_minor": 5
}
